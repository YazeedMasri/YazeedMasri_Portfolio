{
  "cells": [
    {
      "cell_type": "markdown",
      "metadata": {
        "id": "IkDm-_fP5uXd"
      },
      "source": [
        "# Business Application Development \n",
        "## Assignment 9: Statistical Modeling\n",
        "\n",
        "Please complete these exercises to the best of your abilities. Please include code to invoke each of your programs to demonstrate the functionality. Write comments throughout your code to explain steps. If you run into a persistent error, please demonstrate your efforts to resolve it; search the web for the error, see if you can get closer to figuring it out. Document what you tried in order to fix the problem."
      ]
    },
    {
      "cell_type": "markdown",
      "metadata": {
        "id": "eR-E3souvXca"
      },
      "source": [
        "### Wine quality data analysis\n",
        "The exercises in this assignment are based on a data set that contains several characteristics of red wine along with a measure of wine quality as rated by expert wine tasters. Our objective in this analysis is to understand the relationship between the collection of variables describing the wine and the quality rating. We will take some time to understand the output and evaluate the model. We will come back to this data set in the next unit to attempt to improve the predictive power of the model. The wine quality data set can be found in the [UCI Machine Learning Repository](https://archive.ics.uci.edu/ml/index.php) which holds a large collection of data sets useful for practicing techniques in the domains of statistical modeling and machine learning. "
      ]
    },
    {
      "cell_type": "code",
      "execution_count": 2,
      "metadata": {
        "id": "uQauTM8qSlRr"
      },
      "outputs": [],
      "source": [
        "# suppress warning messages to improve output readability\n",
        "import warnings\n",
        "warnings.filterwarnings(\"ignore\")\n"
      ]
    },
    {
      "cell_type": "markdown",
      "metadata": {
        "id": "wF-l9--CvXcj"
      },
      "source": [
        "### Problem 1 - Pre-processing\n",
        "The [red wine quality data set](https://archive.ics.uci.edu/ml/datasets/wine+quality) contains measures of various characterstics presumed to be related to wine quality. The function below should read the data from the url and perform several pre-processing steps. \n",
        "\n",
        "a. Determine the variable names.   \n",
        "b. Find the dimensions of the data frame.   \n",
        "c. Check all of the data types.   \n",
        "d. Check for missing (null) values. "
      ]
    },
    {
      "cell_type": "code",
      "execution_count": 21,
      "metadata": {
        "id": "nDUw54XdvXck"
      },
      "outputs": [],
      "source": [
        "def preprocessing(url):\n",
        "    import pandas as pd\n",
        "\n",
        "    wine=pd.read_csv(url,header=None)\n",
        "\n",
        "    #read in the data using the pandas read_csv() function\n",
        "    wine = pd.read_csv(url,header=0,sep=';')\n",
        "\n",
        "    # rename the variables\n",
        "    wine=wine.rename(columns={'fixed acidity':'fixed_acidity', \n",
        "                     'volatile acidity':'volatile_acidity',\n",
        "                     'citric acid': 'citric_acid', \n",
        "                     'residual sugar':'residual_sugar',\n",
        "                     'free sulfur dioxide':'free_sulfur_dioxide',\n",
        "                     'total sulfur dioxide':'total_sulfur_dioxide'  \n",
        "                     })\n",
        "\n",
        "    print(wine.head(),'\\n')\n",
        "\n",
        "    # a. Determine the variable names\n",
        "    k= wine.columns\n",
        "    print('THE VARIABLES ARE:','\\n', k, '\\n')\n",
        "\n",
        "    # b. Find the number of rows and columns\n",
        "    dim= wine.shape\n",
        "    print('THE DIMENSIONS OF THE DATA FRAME ARE (rows,columns):', dim, '\\n')\n",
        "\n",
        "    # c. Check all of the data types\n",
        "    dt= wine.dtypes\n",
        "    print('CHECKING THE DATA TYPES:','\\n',dt,'\\n')\n",
        "\n",
        "    # d. See if there are any missing values in the data\n",
        "    nulls= wine.isnull().sum()\n",
        "    print('CHECKING FOR NULL VALUES:','\\n',nulls)"
      ]
    },
    {
      "cell_type": "code",
      "execution_count": 15,
      "metadata": {
        "id": "w0_lBKNgKohY"
      },
      "outputs": [],
      "source": []
    },
    {
      "cell_type": "markdown",
      "metadata": {
        "id": "gpAnbduYMIj-"
      },
      "source": [
        "Test the function on the code block below"
      ]
    },
    {
      "cell_type": "code",
      "execution_count": 22,
      "metadata": {
        "colab": {
          "base_uri": "https://localhost:8080/"
        },
        "id": "1pWynNPmLSc2",
        "outputId": "560289e1-e258-4fcc-f623-dfb66bbd7479"
      },
      "outputs": [
        {
          "name": "stdout",
          "output_type": "stream",
          "text": [
            "   fixed_acidity  volatile_acidity  citric_acid  residual_sugar  chlorides  \\\n",
            "0            7.4              0.70         0.00             1.9      0.076   \n",
            "1            7.8              0.88         0.00             2.6      0.098   \n",
            "2            7.8              0.76         0.04             2.3      0.092   \n",
            "3           11.2              0.28         0.56             1.9      0.075   \n",
            "4            7.4              0.70         0.00             1.9      0.076   \n",
            "\n",
            "   free_sulfur_dioxide  total_sulfur_dioxide  density    pH  sulphates  \\\n",
            "0                 11.0                  34.0   0.9978  3.51       0.56   \n",
            "1                 25.0                  67.0   0.9968  3.20       0.68   \n",
            "2                 15.0                  54.0   0.9970  3.26       0.65   \n",
            "3                 17.0                  60.0   0.9980  3.16       0.58   \n",
            "4                 11.0                  34.0   0.9978  3.51       0.56   \n",
            "\n",
            "   alcohol  quality  \n",
            "0      9.4        5  \n",
            "1      9.8        5  \n",
            "2      9.8        5  \n",
            "3      9.8        6  \n",
            "4      9.4        5   \n",
            "\n",
            "THE VARIABLES ARE: \n",
            " Index(['fixed_acidity', 'volatile_acidity', 'citric_acid', 'residual_sugar',\n",
            "       'chlorides', 'free_sulfur_dioxide', 'total_sulfur_dioxide', 'density',\n",
            "       'pH', 'sulphates', 'alcohol', 'quality'],\n",
            "      dtype='object') \n",
            "\n",
            "THE DIMENSIONS OF THE DATA FRAME ARE (rows,columns): (1599, 12) \n",
            "\n",
            "CHECKING THE DATA TYPES: \n",
            " fixed_acidity           float64\n",
            "volatile_acidity        float64\n",
            "citric_acid             float64\n",
            "residual_sugar          float64\n",
            "chlorides               float64\n",
            "free_sulfur_dioxide     float64\n",
            "total_sulfur_dioxide    float64\n",
            "density                 float64\n",
            "pH                      float64\n",
            "sulphates               float64\n",
            "alcohol                 float64\n",
            "quality                   int64\n",
            "dtype: object \n",
            "\n",
            "CHECKING FOR NULL VALUES: \n",
            " fixed_acidity           0\n",
            "volatile_acidity        0\n",
            "citric_acid             0\n",
            "residual_sugar          0\n",
            "chlorides               0\n",
            "free_sulfur_dioxide     0\n",
            "total_sulfur_dioxide    0\n",
            "density                 0\n",
            "pH                      0\n",
            "sulphates               0\n",
            "alcohol                 0\n",
            "quality                 0\n",
            "dtype: int64\n"
          ]
        }
      ],
      "source": [
        "u='https://archive.ics.uci.edu/ml/machine-learning-databases/wine-quality/winequality-red.csv'\n",
        "preprocessing(u)"
      ]
    },
    {
      "cell_type": "markdown",
      "metadata": {
        "id": "giC7HfpS0yfI"
      },
      "source": [
        "Expected Output\n",
        "```\n",
        "fixed_acidity  volatile_acidity  citric_acid  ...  sulphates  alcohol  quality\n",
        "0            7.4              0.70         0.00  ...       0.56      9.4        5\n",
        "1            7.8              0.88         0.00  ...       0.68      9.8        5\n",
        "2            7.8              0.76         0.04  ...       0.65      9.8        5\n",
        "3           11.2              0.28         0.56  ...       0.58      9.8        6\n",
        "4            7.4              0.70         0.00  ...       0.56      9.4        5\n",
        "\n",
        "[5 rows x 12 columns] \n",
        "\n",
        "THE VARIABLES ARE: \n",
        " Index(['fixed_acidity', 'volatile_acidity', 'citric_acid', 'residual_sugar',\n",
        "       'chlorides', 'free_sulfur_dioxide', 'total_sulfur_dioxide', 'density',\n",
        "       'pH', 'sulphates', 'alcohol', 'quality'],\n",
        "      dtype='object') \n",
        "\n",
        "THE DIMENSIONS OF THE DATA FRAME ARE (rows,columns): (1599, 12) \n",
        "\n",
        "CHECKING THE DATA TYPES: \n",
        "fixed_acidity           float64\n",
        "volatile_acidity        float64\n",
        "citric_acid             float64\n",
        "residual_sugar          float64\n",
        "chlorides               float64\n",
        "free_sulfur_dioxide     float64\n",
        "total_sulfur_dioxide    float64\n",
        "density                 float64\n",
        "pH                      float64\n",
        "sulphates               float64\n",
        "alcohol                 float64\n",
        "quality                   int64\n",
        "dtype: object \n",
        "\n",
        "CHECKING FOR NULL VALUES: \n",
        "fixed_acidity           0\n",
        "volatile_acidity        0\n",
        "citric_acid             0\n",
        "residual_sugar          0\n",
        "chlorides               0\n",
        "free_sulfur_dioxide     0\n",
        "total_sulfur_dioxide    0\n",
        "density                 0\n",
        "pH                      0\n",
        "sulphates               0\n",
        "alcohol                 0\n",
        "quality                 0\n",
        "dtype: int64\n",
        "```"
      ]
    },
    {
      "cell_type": "markdown",
      "metadata": {
        "id": "kqtHBbAWGoDJ"
      },
      "source": [
        "### Problem 2 - Data Summaries and Exploration\n",
        "In this problem, we calculate the summary statistics for each of the variables in the data set. When we have multiple explanatory variables, it can be useful to examine the pairwise correlations. If predictor variables are related to one another, statisticians take the step of removing one of the variables from the model (checking for multicollinearity). It is important to make sure the model inputs all contribute unique information. \n",
        "\n",
        "a. Generate the statistical summary.    \n",
        "b. Calculate and plot the pairwise correlations. "
      ]
    },
    {
      "cell_type": "code",
      "execution_count": 33,
      "metadata": {
        "id": "F5RhbZfsGx72"
      },
      "outputs": [],
      "source": [
        "def exploring_data(url):\n",
        "    import pandas as pd\n",
        "    import seaborn as sns\n",
        "    import numpy as np\n",
        "\n",
        "    wine=pd.read_csv(url,header=None)\n",
        "\n",
        "    #read in the data using the pandas read_csv() function\n",
        "    wine = pd.read_csv(url,header=0,sep=';')\n",
        "\n",
        "    # rename the variables\n",
        "    wine=wine.rename(columns={'fixed acidity':'fixed_acidity', \n",
        "                     'volatile acidity':'volatile_acidity',\n",
        "                     'citric acid': 'citric_acid', \n",
        "                     'residual sugar':'residual_sugar',\n",
        "                     'free sulfur dioxide':'free_sulfur_dioxide',\n",
        "                     'total sulfur dioxide':'total_sulfur_dioxide'  \n",
        "                     })\n",
        "    \n",
        "    # a. find statistical summmary of the data\n",
        "    w_stat= wine.describe()\n",
        "    print(\"STATISTICAL SUMMARY OF WINE DATA:\", '\\n', w_stat.round(decimals=2))\n",
        "\n",
        "    # b.i. calculate the pairwise correlations\n",
        "    corr= wine.corr()\n",
        "    print(\"PAIRWISE CORRELATIONS:\",'\\n', corr.round(decimals=2))\n",
        "\n",
        "    # b.ii. create a heatmap of the correlations\n",
        "    mask = np.triu(np.ones_like(corr, dtype=bool))\n",
        "    sns.heatmap(corr, mask=mask)\n"
      ]
    },
    {
      "cell_type": "code",
      "execution_count": 34,
      "metadata": {
        "colab": {
          "base_uri": "https://localhost:8080/",
          "height": 1000
        },
        "id": "Lbx5liR7OQW3",
        "outputId": "1c76c942-a61a-4514-dac8-1f58bb41ac21"
      },
      "outputs": [
        {
          "name": "stdout",
          "output_type": "stream",
          "text": [
            "STATISTICAL SUMMARY OF WINE DATA: \n",
            "        fixed_acidity  volatile_acidity  citric_acid  residual_sugar  \\\n",
            "count        1599.00           1599.00      1599.00         1599.00   \n",
            "mean            8.32              0.53         0.27            2.54   \n",
            "std             1.74              0.18         0.19            1.41   \n",
            "min             4.60              0.12         0.00            0.90   \n",
            "25%             7.10              0.39         0.09            1.90   \n",
            "50%             7.90              0.52         0.26            2.20   \n",
            "75%             9.20              0.64         0.42            2.60   \n",
            "max            15.90              1.58         1.00           15.50   \n",
            "\n",
            "       chlorides  free_sulfur_dioxide  total_sulfur_dioxide  density       pH  \\\n",
            "count    1599.00              1599.00               1599.00  1599.00  1599.00   \n",
            "mean        0.09                15.87                 46.47     1.00     3.31   \n",
            "std         0.05                10.46                 32.90     0.00     0.15   \n",
            "min         0.01                 1.00                  6.00     0.99     2.74   \n",
            "25%         0.07                 7.00                 22.00     1.00     3.21   \n",
            "50%         0.08                14.00                 38.00     1.00     3.31   \n",
            "75%         0.09                21.00                 62.00     1.00     3.40   \n",
            "max         0.61                72.00                289.00     1.00     4.01   \n",
            "\n",
            "       sulphates  alcohol  quality  \n",
            "count    1599.00  1599.00  1599.00  \n",
            "mean        0.66    10.42     5.64  \n",
            "std         0.17     1.07     0.81  \n",
            "min         0.33     8.40     3.00  \n",
            "25%         0.55     9.50     5.00  \n",
            "50%         0.62    10.20     6.00  \n",
            "75%         0.73    11.10     6.00  \n",
            "max         2.00    14.90     8.00  \n",
            "PAIRWISE CORRELATIONS: \n",
            "                       fixed_acidity  volatile_acidity  citric_acid  \\\n",
            "fixed_acidity                  1.00             -0.26         0.67   \n",
            "volatile_acidity              -0.26              1.00        -0.55   \n",
            "citric_acid                    0.67             -0.55         1.00   \n",
            "residual_sugar                 0.11              0.00         0.14   \n",
            "chlorides                      0.09              0.06         0.20   \n",
            "free_sulfur_dioxide           -0.15             -0.01        -0.06   \n",
            "total_sulfur_dioxide          -0.11              0.08         0.04   \n",
            "density                        0.67              0.02         0.36   \n",
            "pH                            -0.68              0.23        -0.54   \n",
            "sulphates                      0.18             -0.26         0.31   \n",
            "alcohol                       -0.06             -0.20         0.11   \n",
            "quality                        0.12             -0.39         0.23   \n",
            "\n",
            "                      residual_sugar  chlorides  free_sulfur_dioxide  \\\n",
            "fixed_acidity                   0.11       0.09                -0.15   \n",
            "volatile_acidity                0.00       0.06                -0.01   \n",
            "citric_acid                     0.14       0.20                -0.06   \n",
            "residual_sugar                  1.00       0.06                 0.19   \n",
            "chlorides                       0.06       1.00                 0.01   \n",
            "free_sulfur_dioxide             0.19       0.01                 1.00   \n",
            "total_sulfur_dioxide            0.20       0.05                 0.67   \n",
            "density                         0.36       0.20                -0.02   \n",
            "pH                             -0.09      -0.27                 0.07   \n",
            "sulphates                       0.01       0.37                 0.05   \n",
            "alcohol                         0.04      -0.22                -0.07   \n",
            "quality                         0.01      -0.13                -0.05   \n",
            "\n",
            "                      total_sulfur_dioxide  density    pH  sulphates  alcohol  \\\n",
            "fixed_acidity                        -0.11     0.67 -0.68       0.18    -0.06   \n",
            "volatile_acidity                      0.08     0.02  0.23      -0.26    -0.20   \n",
            "citric_acid                           0.04     0.36 -0.54       0.31     0.11   \n",
            "residual_sugar                        0.20     0.36 -0.09       0.01     0.04   \n",
            "chlorides                             0.05     0.20 -0.27       0.37    -0.22   \n",
            "free_sulfur_dioxide                   0.67    -0.02  0.07       0.05    -0.07   \n",
            "total_sulfur_dioxide                  1.00     0.07 -0.07       0.04    -0.21   \n",
            "density                               0.07     1.00 -0.34       0.15    -0.50   \n",
            "pH                                   -0.07    -0.34  1.00      -0.20     0.21   \n",
            "sulphates                             0.04     0.15 -0.20       1.00     0.09   \n",
            "alcohol                              -0.21    -0.50  0.21       0.09     1.00   \n",
            "quality                              -0.19    -0.17 -0.06       0.25     0.48   \n",
            "\n",
            "                      quality  \n",
            "fixed_acidity            0.12  \n",
            "volatile_acidity        -0.39  \n",
            "citric_acid              0.23  \n",
            "residual_sugar           0.01  \n",
            "chlorides               -0.13  \n",
            "free_sulfur_dioxide     -0.05  \n",
            "total_sulfur_dioxide    -0.19  \n",
            "density                 -0.17  \n",
            "pH                      -0.06  \n",
            "sulphates                0.25  \n",
            "alcohol                  0.48  \n",
            "quality                  1.00  \n"
          ]
        },
        {
          "data": {
            "image/png": "[encoded data removed]",
            "text/plain": [
              "<Figure size 432x288 with 2 Axes>"
            ]
          },
          "metadata": {
            "needs_background": "light"
          },
          "output_type": "display_data"
        }
      ],
      "source": [
        "u='https://archive.ics.uci.edu/ml/machine-learning-databases/wine-quality/winequality-red.csv'\n",
        "exploring_data(u)"
      ]
    },
    {
      "cell_type": "markdown",
      "metadata": {
        "id": "3TEm4RPR2PeK"
      },
      "source": [
        "Expected Output\n",
        "```\n",
        "STATISTICAL SUMMARY OF WINE DATA: \n",
        "        fixed_acidity  volatile_acidity  ...  alcohol  quality\n",
        "count        1599.00           1599.00  ...  1599.00  1599.00\n",
        "mean            8.32              0.53  ...    10.42     5.64\n",
        "std             1.74              0.18  ...     1.07     0.81\n",
        "min             4.60              0.12  ...     8.40     3.00\n",
        "25%             7.10              0.39  ...     9.50     5.00\n",
        "50%             7.90              0.52  ...    10.20     6.00\n",
        "75%             9.20              0.64  ...    11.10     6.00\n",
        "max            15.90              1.58  ...    14.90     8.00\n",
        "\n",
        "[8 rows x 12 columns]\n",
        "PAIRWISE CORRELATIONS: \n",
        "                       fixed_acidity  volatile_acidity  ...  alcohol  quality\n",
        "fixed_acidity                  1.00             -0.26  ...    -0.06     0.12\n",
        "volatile_acidity              -0.26              1.00  ...    -0.20    -0.39\n",
        "citric_acid                    0.67             -0.55  ...     0.11     0.23\n",
        "residual_sugar                 0.11              0.00  ...     0.04     0.01\n",
        "chlorides                      0.09              0.06  ...    -0.22    -0.13\n",
        "free_sulfur_dioxide           -0.15             -0.01  ...    -0.07    -0.05\n",
        "total_sulfur_dioxide          -0.11              0.08  ...    -0.21    -0.19\n",
        "density                        0.67              0.02  ...    -0.50    -0.17\n",
        "pH                            -0.68              0.23  ...     0.21    -0.06\n",
        "sulphates                      0.18             -0.26  ...     0.09     0.25\n",
        "alcohol                       -0.06             -0.20  ...     1.00     0.48\n",
        "quality                        0.12             -0.39  ...     0.48     1.00\n",
        "[12 rows x 12 columns]\n",
        "```\n",
        "![image](https://drive.google.com/uc?id=1OKktT8hMA9fGDm-3K3zeif2Gm2GyFH64)"
      ]
    },
    {
      "cell_type": "markdown",
      "metadata": {
        "id": "Z2ajlVtsvXcS"
      },
      "source": [
        "## Problem 3 - Linear Regression: Full Model\n",
        "Perform the linear regression analysis all of the explanatory variables in order to predict the response variable (wine quality rating). Examine the output. The regression formula is built for you, your task is to complete the missing code to build the model using ordinary least squares and then type the correct command to show the regression results.  "
      ]
    },
    {
      "cell_type": "code",
      "execution_count": 37,
      "metadata": {
        "id": "KDO9K8o2mVr3"
      },
      "outputs": [],
      "source": [
        "def multiple_regression_all(url):\n",
        "    import pandas as pd\n",
        "    wine=pd.read_csv(url,header=None)\n",
        "\n",
        "    #read in the data using the pandas read_csv() function\n",
        "    wine = pd.read_csv(url,header=0,sep=';')\n",
        "\n",
        "    # rename the variables\n",
        "    wine=wine.rename(columns={'fixed acidity':'fixed_acidity', \n",
        "                     'volatile acidity':'volatile_acidity',\n",
        "                     'citric acid': 'citric_acid', \n",
        "                     'residual sugar':'residual_sugar',\n",
        "                     'free sulfur dioxide':'free_sulfur_dioxide',\n",
        "                     'total sulfur dioxide':'total_sulfur_dioxide'  \n",
        "                     })\n",
        "    \n",
        "    # build the portion of the regression formula containing only the predictor variables\n",
        "    X=list(wine.columns)\n",
        "    X.remove('quality')\n",
        "    predictors='+'.join(X)\n",
        "    print('PREDICTOR VARIBLES:', predictors,'\\n')\n",
        "\n",
        "    # Regression analysis\n",
        "    # import statsmodels.api as sm <-- tool appears to be depricated\n",
        "    import pandas.util.testing as tm\n",
        "    import statsmodels.formula.api as smf\n",
        "\n",
        "    # Build the formula using the following\n",
        "    f = \"quality~\" + predictors\n",
        "    print('REGRESSION FORMULA:',f,'\\n')\n",
        "\n",
        "    # use the correct statsmodels function to generate the linear model (ordinary least squares regression)\n",
        "    lm=smf.ols(formula=f, data= wine).fit()\n",
        "\n",
        "    # inspect a summary of the results of the linear regression\n",
        "    print(lm.summary())\n",
        "\n"
      ]
    },
    {
      "cell_type": "code",
      "execution_count": 38,
      "metadata": {
        "colab": {
          "base_uri": "https://localhost:8080/"
        },
        "id": "6UFaSwrjSVUd",
        "outputId": "274a291a-4cfe-48ce-a19d-8760f8ff349d"
      },
      "outputs": [
        {
          "name": "stdout",
          "output_type": "stream",
          "text": [
            "PREDICTOR VARIBLES: fixed_acidity+volatile_acidity+citric_acid+residual_sugar+chlorides+free_sulfur_dioxide+total_sulfur_dioxide+density+pH+sulphates+alcohol \n",
            "\n",
            "REGRESSION FORMULA: quality~fixed_acidity+volatile_acidity+citric_acid+residual_sugar+chlorides+free_sulfur_dioxide+total_sulfur_dioxide+density+pH+sulphates+alcohol \n",
            "\n",
            "                            OLS Regression Results                            \n",
            "==============================================================================\n",
            "Dep. Variable:                quality   R-squared:                       0.361\n",
            "Model:                            OLS   Adj. R-squared:                  0.356\n",
            "Method:                 Least Squares   F-statistic:                     81.35\n",
            "Date:                Sun, 11 Dec 2022   Prob (F-statistic):          1.79e-145\n",
            "Time:                        22:10:56   Log-Likelihood:                -1569.1\n",
            "No. Observations:                1599   AIC:                             3162.\n",
            "Df Residuals:                    1587   BIC:                             3227.\n",
            "Df Model:                          11                                         \n",
            "Covariance Type:            nonrobust                                         \n",
            "========================================================================================\n",
            "                           coef    std err          t      P>|t|      [0.025      0.975]\n",
            "----------------------------------------------------------------------------------------\n",
            "Intercept               21.9652     21.195      1.036      0.300     -19.607      63.538\n",
            "fixed_acidity            0.0250      0.026      0.963      0.336      -0.026       0.076\n",
            "volatile_acidity        -1.0836      0.121     -8.948      0.000      -1.321      -0.846\n",
            "citric_acid             -0.1826      0.147     -1.240      0.215      -0.471       0.106\n",
            "residual_sugar           0.0163      0.015      1.089      0.276      -0.013       0.046\n",
            "chlorides               -1.8742      0.419     -4.470      0.000      -2.697      -1.052\n",
            "free_sulfur_dioxide      0.0044      0.002      2.009      0.045       0.000       0.009\n",
            "total_sulfur_dioxide    -0.0033      0.001     -4.480      0.000      -0.005      -0.002\n",
            "density                -17.8812     21.633     -0.827      0.409     -60.314      24.551\n",
            "pH                      -0.4137      0.192     -2.159      0.031      -0.789      -0.038\n",
            "sulphates                0.9163      0.114      8.014      0.000       0.692       1.141\n",
            "alcohol                  0.2762      0.026     10.429      0.000       0.224       0.328\n",
            "==============================================================================\n",
            "Omnibus:                       27.376   Durbin-Watson:                   1.757\n",
            "Prob(Omnibus):                  0.000   Jarque-Bera (JB):               40.965\n",
            "Skew:                          -0.168   Prob(JB):                     1.27e-09\n",
            "Kurtosis:                       3.708   Cond. No.                     1.13e+05\n",
            "==============================================================================\n",
            "\n",
            "Notes:\n",
            "[1] Standard Errors assume that the covariance matrix of the errors is correctly specified.\n",
            "[2] The condition number is large, 1.13e+05. This might indicate that there are\n",
            "strong multicollinearity or other numerical problems.\n"
          ]
        }
      ],
      "source": [
        "u='https://archive.ics.uci.edu/ml/machine-learning-databases/wine-quality/winequality-red.csv'\n",
        "multiple_regression_all(u)"
      ]
    },
    {
      "cell_type": "markdown",
      "metadata": {
        "id": "4niMnQsB4qi0"
      },
      "source": [
        "Expected Output\n",
        "```\n",
        "PREDICTOR VARIBLES: fixed_acidity+volatile_acidity+citric_acid+residual_sugar+chlorides+free_sulfur_dioxide+total_sulfur_dioxide+density+pH+sulphates+alcohol \n",
        "\n",
        "REGRESSION FORMULA: quality~fixed_acidity+volatile_acidity+citric_acid+residual_sugar+chlorides+free_sulfur_dioxide+total_sulfur_dioxide+density+pH+sulphates+alcohol \n",
        "\n",
        "                            OLS Regression Results                            \n",
        "==============================================================================\n",
        "Dep. Variable:                quality   R-squared:                       0.361\n",
        "Model:                            OLS   Adj. R-squared:                  0.356\n",
        "Method:                 Least Squares   F-statistic:                     81.35\n",
        "Date:                Mon, 15 Nov 2021   Prob (F-statistic):          1.79e-145\n",
        "Time:                        13:55:55   Log-Likelihood:                -1569.1\n",
        "No. Observations:                1599   AIC:                             3162.\n",
        "Df Residuals:                    1587   BIC:                             3227.\n",
        "Df Model:                          11                                         \n",
        "Covariance Type:            nonrobust                                         \n",
        "========================================================================================\n",
        "                           coef    std err          t      P>|t|      [0.025      0.975]\n",
        "----------------------------------------------------------------------------------------\n",
        "Intercept               21.9652     21.195      1.036      0.300     -19.607      63.538\n",
        "fixed_acidity            0.0250      0.026      0.963      0.336      -0.026       0.076\n",
        "volatile_acidity        -1.0836      0.121     -8.948      0.000      -1.321      -0.846\n",
        "citric_acid             -0.1826      0.147     -1.240      0.215      -0.471       0.106\n",
        "residual_sugar           0.0163      0.015      1.089      0.276      -0.013       0.046\n",
        "chlorides               -1.8742      0.419     -4.470      0.000      -2.697      -1.052\n",
        "free_sulfur_dioxide      0.0044      0.002      2.009      0.045       0.000       0.009\n",
        "total_sulfur_dioxide    -0.0033      0.001     -4.480      0.000      -0.005      -0.002\n",
        "density                -17.8812     21.633     -0.827      0.409     -60.314      24.551\n",
        "pH                      -0.4137      0.192     -2.159      0.031      -0.789      -0.038\n",
        "sulphates                0.9163      0.114      8.014      0.000       0.692       1.141\n",
        "alcohol                  0.2762      0.026     10.429      0.000       0.224       0.328\n",
        "==============================================================================\n",
        "Omnibus:                       27.376   Durbin-Watson:                   1.757\n",
        "Prob(Omnibus):                  0.000   Jarque-Bera (JB):               40.965\n",
        "Skew:                          -0.168   Prob(JB):                     1.27e-09\n",
        "Kurtosis:                       3.708   Cond. No.                     1.13e+05\n",
        "==============================================================================\n",
        "\n",
        "Warnings:\n",
        "[1] Standard Errors assume that the covariance matrix of the errors is correctly specified.\n",
        "[2] The condition number is large, 1.13e+05. This might indicate that there are\n",
        "strong multicollinearity or other numerical problems.\n",
        "```"
      ]
    },
    {
      "cell_type": "markdown",
      "metadata": {
        "id": "72jxFzz-4zD_"
      },
      "source": [
        "## Problem 4 - Linear Regression: Reduced Model\n",
        "Through our exploratory analysis and from the results of the regression using the full model, there are some indications that one or more of the predictor variables are related to eachother, meaning we are not inputting unique information into the model (multicollinearity). We may be able to build a model that is just as good (similar R-squared) by using only a subset of the variables. \n",
        "\n",
        "a. Run the regression analysis using only alcohol content and fixed acidity as the predictors of wine quality. \n",
        "\n",
        "b. Fill in the blanks in the text to interpret the output. "
      ]
    },
    {
      "cell_type": "markdown",
      "metadata": {
        "id": "CzI1_bWl6N67"
      },
      "source": [
        "#### a. Fit the reduced linear regression model by completing the code below. "
      ]
    },
    {
      "cell_type": "code",
      "execution_count": 39,
      "metadata": {
        "id": "wQ9PfFXdB_Pu"
      },
      "outputs": [],
      "source": [
        "def multiple_regression_reduced(url):\n",
        "    import pandas as pd\n",
        "    import seaborn as sns\n",
        "    import numpy as np\n",
        "\n",
        "    wine=pd.read_csv(url,header=None)\n",
        "\n",
        "    #read in the data using the pandas read_csv() function\n",
        "    wine = pd.read_csv(url,header=0,sep=';')\n",
        "\n",
        "    # rename the variables\n",
        "    wine=wine.rename(columns={'fixed acidity':'fixed_acidity', \n",
        "                     'volatile acidity':'volatile_acidity',\n",
        "                     'citric acid': 'citric_acid', \n",
        "                     'residual sugar':'residual_sugar',\n",
        "                     'free sulfur dioxide':'free_sulfur_dioxide',\n",
        "                     'total sulfur dioxide':'total_sulfur_dioxide'  \n",
        "                     })\n",
        "    \n",
        "    # Regression analysis\n",
        "    import pandas.util.testing as tm\n",
        "    import statsmodels.formula.api as smf\n",
        "\n",
        "    # specify the regression formula \n",
        "    f2 = \"quality~\" + \"alcohol+volatile_acidity\"\n",
        "    print('REGRESSION FORMULA:',f2,'\\n')\n",
        "\n",
        "    # use the correct statsmodels function to generate the linear model (ordinary least squares regression)\n",
        "    lm= smf.ols(formula=f2, data=wine).fit()\n",
        "\n",
        "    # inspect a summary of the results of the linear regression\n",
        "    print(lm.summary())"
      ]
    },
    {
      "cell_type": "code",
      "execution_count": 40,
      "metadata": {
        "colab": {
          "base_uri": "https://localhost:8080/"
        },
        "id": "uKAKViEoTWJx",
        "outputId": "280e738a-abf9-4fb3-f590-6a27908ed71a"
      },
      "outputs": [
        {
          "name": "stdout",
          "output_type": "stream",
          "text": [
            "REGRESSION FORMULA: quality~alcohol+volatile_acidity \n",
            "\n",
            "                            OLS Regression Results                            \n",
            "==============================================================================\n",
            "Dep. Variable:                quality   R-squared:                       0.317\n",
            "Model:                            OLS   Adj. R-squared:                  0.316\n",
            "Method:                 Least Squares   F-statistic:                     370.4\n",
            "Date:                Sun, 11 Dec 2022   Prob (F-statistic):          7.35e-133\n",
            "Time:                        22:13:15   Log-Likelihood:                -1621.8\n",
            "No. Observations:                1599   AIC:                             3250.\n",
            "Df Residuals:                    1596   BIC:                             3266.\n",
            "Df Model:                           2                                         \n",
            "Covariance Type:            nonrobust                                         \n",
            "====================================================================================\n",
            "                       coef    std err          t      P>|t|      [0.025      0.975]\n",
            "------------------------------------------------------------------------------------\n",
            "Intercept            3.0955      0.184     16.778      0.000       2.734       3.457\n",
            "alcohol              0.3138      0.016     19.604      0.000       0.282       0.345\n",
            "volatile_acidity    -1.3836      0.095    -14.524      0.000      -1.570      -1.197\n",
            "==============================================================================\n",
            "Omnibus:                       17.005   Durbin-Watson:                   1.739\n",
            "Prob(Omnibus):                  0.000   Jarque-Bera (JB):               25.998\n",
            "Skew:                          -0.064   Prob(JB):                     2.26e-06\n",
            "Kurtosis:                       3.611   Cond. No.                         121.\n",
            "==============================================================================\n",
            "\n",
            "Notes:\n",
            "[1] Standard Errors assume that the covariance matrix of the errors is correctly specified.\n"
          ]
        }
      ],
      "source": [
        "u='https://archive.ics.uci.edu/ml/machine-learning-databases/wine-quality/winequality-red.csv'\n",
        "multiple_regression_reduced(u)"
      ]
    },
    {
      "cell_type": "markdown",
      "metadata": {
        "id": "-SF-EYN-6q5p"
      },
      "source": [
        "Expected Output\n",
        "```|\n",
        "REGRESSION FORMULA: quality~alcohol+volatile_acidity \n",
        "\n",
        "                            OLS Regression Results                            \n",
        "==============================================================================\n",
        "Dep. Variable:                quality   R-squared:                       0.317\n",
        "Model:                            OLS   Adj. R-squared:                  0.316\n",
        "Method:                 Least Squares   F-statistic:                     370.4\n",
        "Date:                Mon, 15 Nov 2021   Prob (F-statistic):          7.35e-133\n",
        "Time:                        14:01:18   Log-Likelihood:                -1621.8\n",
        "No. Observations:                1599   AIC:                             3250.\n",
        "Df Residuals:                    1596   BIC:                             3266.\n",
        "Df Model:                           2                                         \n",
        "Covariance Type:            nonrobust                                         \n",
        "====================================================================================\n",
        "                       coef    std err          t      P>|t|      [0.025      0.975]\n",
        "------------------------------------------------------------------------------------\n",
        "Intercept            3.0955      0.184     16.778      0.000       2.734       3.457\n",
        "alcohol              0.3138      0.016     19.604      0.000       0.282       0.345\n",
        "volatile_acidity    -1.3836      0.095    -14.524      0.000      -1.570      -1.197\n",
        "==============================================================================\n",
        "Omnibus:                       17.005   Durbin-Watson:                   1.739\n",
        "Prob(Omnibus):                  0.000   Jarque-Bera (JB):               25.998\n",
        "Skew:                          -0.064   Prob(JB):                     2.26e-06\n",
        "Kurtosis:                       3.611   Cond. No.                         121.\n",
        "==============================================================================\n",
        "\n",
        "Warnings:\n",
        "[1] Standard Errors assume that the covariance matrix of the errors is correctly specified.\n",
        "```"
      ]
    },
    {
      "cell_type": "markdown",
      "metadata": {
        "id": "DO7vE6aFYHxz"
      },
      "source": [
        "#### b. Interpret Regression Output\n",
        "(double-click the text to begin editing)\n",
        "\n",
        "- Coefficients\n",
        "\n",
        "**Alcohol Content**  \n",
        "For each unit increase in the alcohol content, the model predicts an increase of _____ in the wine quality (statistically significant, p-value=0.00).\n",
        "\n",
        "**Volatile Acidity**  \n",
        "For each unit increase in the volatile acidity, the model predicts a _____ decrease in the wine quality rating. (statistically significant, p-value=0.00)\n",
        "\n",
        "- Intercept: \n",
        "\n",
        "When all explanatory variables are equal to 0, the model predicts a wine quality rating of _____.  (not meaningful in the context of this scenario)\n",
        "\n",
        "\n",
        "- Adj R-squared: \n",
        "\n",
        "About _____ of the variation in the wine quality ratings is explained by the linear regression model.  \n",
        "\n",
        "\n",
        "- P-value for the Model: \n",
        "\n",
        "The overall statistical significance of the linear model is measured by the f-test for regression.  A small p-value means that the model developed from this data is unlikely to be observed by chance, therefore it is more plausible to attribute the observed relationship between variables to an actual phenomenon.  The p-value associated with the f-statistic in this case is _____.  Because this is extremely small, we conclude that there is an actual relationship between the collection of explanatory variables and the wine quality rating.  \n",
        "\n",
        "\n"
      ]
    }
  ],
  "metadata": {
    "colab": {
      "provenance": []
    },
    "kernelspec": {
      "display_name": "Python 3",
      "name": "python3"
    },
    "language_info": {
      "name": "python"
    }
  },
  "nbformat": 4,
  "nbformat_minor": 0
}
